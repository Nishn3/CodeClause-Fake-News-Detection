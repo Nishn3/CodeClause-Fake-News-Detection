{
 "cells": [
  {
   "cell_type": "markdown",
   "metadata": {},
   "source": [
    "Author :- Nishant Medpalwar\n"
   ]
  },
  {
   "cell_type": "markdown",
   "metadata": {},
   "source": [
    "Fake News Prediction"
   ]
  },
  {
   "cell_type": "code",
   "execution_count": 1,
   "metadata": {},
   "outputs": [],
   "source": [
    "import numpy as np\n",
    "import pandas as pd"
   ]
  },
  {
   "cell_type": "markdown",
   "metadata": {},
   "source": [
    "Importing the dataset"
   ]
  },
  {
   "cell_type": "code",
   "execution_count": 3,
   "metadata": {},
   "outputs": [],
   "source": [
    "data=pd.read_csv('news.csv')"
   ]
  },
  {
   "cell_type": "markdown",
   "metadata": {},
   "source": [
    "Rows of Datasets"
   ]
  },
  {
   "cell_type": "code",
   "execution_count": 4,
   "metadata": {},
   "outputs": [
    {
     "data": {
      "text/html": [
       "<div>\n",
       "<style scoped>\n",
       "    .dataframe tbody tr th:only-of-type {\n",
       "        vertical-align: middle;\n",
       "    }\n",
       "\n",
       "    .dataframe tbody tr th {\n",
       "        vertical-align: top;\n",
       "    }\n",
       "\n",
       "    .dataframe thead th {\n",
       "        text-align: right;\n",
       "    }\n",
       "</style>\n",
       "<table border=\"1\" class=\"dataframe\">\n",
       "  <thead>\n",
       "    <tr style=\"text-align: right;\">\n",
       "      <th></th>\n",
       "      <th>Unnamed: 0</th>\n",
       "      <th>title</th>\n",
       "      <th>text</th>\n",
       "      <th>label</th>\n",
       "    </tr>\n",
       "  </thead>\n",
       "  <tbody>\n",
       "    <tr>\n",
       "      <th>0</th>\n",
       "      <td>8476</td>\n",
       "      <td>You Can Smell Hillary’s Fear</td>\n",
       "      <td>Daniel Greenfield, a Shillman Journalism Fello...</td>\n",
       "      <td>FAKE</td>\n",
       "    </tr>\n",
       "    <tr>\n",
       "      <th>1</th>\n",
       "      <td>10294</td>\n",
       "      <td>Watch The Exact Moment Paul Ryan Committed Pol...</td>\n",
       "      <td>Google Pinterest Digg Linkedin Reddit Stumbleu...</td>\n",
       "      <td>FAKE</td>\n",
       "    </tr>\n",
       "    <tr>\n",
       "      <th>2</th>\n",
       "      <td>3608</td>\n",
       "      <td>Kerry to go to Paris in gesture of sympathy</td>\n",
       "      <td>U.S. Secretary of State John F. Kerry said Mon...</td>\n",
       "      <td>REAL</td>\n",
       "    </tr>\n",
       "    <tr>\n",
       "      <th>3</th>\n",
       "      <td>10142</td>\n",
       "      <td>Bernie supporters on Twitter erupt in anger ag...</td>\n",
       "      <td>— Kaydee King (@KaydeeKing) November 9, 2016 T...</td>\n",
       "      <td>FAKE</td>\n",
       "    </tr>\n",
       "    <tr>\n",
       "      <th>4</th>\n",
       "      <td>875</td>\n",
       "      <td>The Battle of New York: Why This Primary Matters</td>\n",
       "      <td>It's primary day in New York and front-runners...</td>\n",
       "      <td>REAL</td>\n",
       "    </tr>\n",
       "  </tbody>\n",
       "</table>\n",
       "</div>"
      ],
      "text/plain": [
       "   Unnamed: 0                                              title  \\\n",
       "0        8476                       You Can Smell Hillary’s Fear   \n",
       "1       10294  Watch The Exact Moment Paul Ryan Committed Pol...   \n",
       "2        3608        Kerry to go to Paris in gesture of sympathy   \n",
       "3       10142  Bernie supporters on Twitter erupt in anger ag...   \n",
       "4         875   The Battle of New York: Why This Primary Matters   \n",
       "\n",
       "                                                text label  \n",
       "0  Daniel Greenfield, a Shillman Journalism Fello...  FAKE  \n",
       "1  Google Pinterest Digg Linkedin Reddit Stumbleu...  FAKE  \n",
       "2  U.S. Secretary of State John F. Kerry said Mon...  REAL  \n",
       "3  — Kaydee King (@KaydeeKing) November 9, 2016 T...  FAKE  \n",
       "4  It's primary day in New York and front-runners...  REAL  "
      ]
     },
     "execution_count": 4,
     "metadata": {},
     "output_type": "execute_result"
    }
   ],
   "source": [
    "data.head()"
   ]
  },
  {
   "cell_type": "code",
   "execution_count": 5,
   "metadata": {},
   "outputs": [
    {
     "data": {
      "text/html": [
       "<div>\n",
       "<style scoped>\n",
       "    .dataframe tbody tr th:only-of-type {\n",
       "        vertical-align: middle;\n",
       "    }\n",
       "\n",
       "    .dataframe tbody tr th {\n",
       "        vertical-align: top;\n",
       "    }\n",
       "\n",
       "    .dataframe thead th {\n",
       "        text-align: right;\n",
       "    }\n",
       "</style>\n",
       "<table border=\"1\" class=\"dataframe\">\n",
       "  <thead>\n",
       "    <tr style=\"text-align: right;\">\n",
       "      <th></th>\n",
       "      <th>Unnamed: 0</th>\n",
       "      <th>title</th>\n",
       "      <th>text</th>\n",
       "      <th>label</th>\n",
       "    </tr>\n",
       "  </thead>\n",
       "  <tbody>\n",
       "    <tr>\n",
       "      <th>6330</th>\n",
       "      <td>4490</td>\n",
       "      <td>State Department says it can't find emails fro...</td>\n",
       "      <td>The State Department told the Republican Natio...</td>\n",
       "      <td>REAL</td>\n",
       "    </tr>\n",
       "    <tr>\n",
       "      <th>6331</th>\n",
       "      <td>8062</td>\n",
       "      <td>The ‘P’ in PBS Should Stand for ‘Plutocratic’ ...</td>\n",
       "      <td>The ‘P’ in PBS Should Stand for ‘Plutocratic’ ...</td>\n",
       "      <td>FAKE</td>\n",
       "    </tr>\n",
       "    <tr>\n",
       "      <th>6332</th>\n",
       "      <td>8622</td>\n",
       "      <td>Anti-Trump Protesters Are Tools of the Oligarc...</td>\n",
       "      <td>Anti-Trump Protesters Are Tools of the Oligar...</td>\n",
       "      <td>FAKE</td>\n",
       "    </tr>\n",
       "    <tr>\n",
       "      <th>6333</th>\n",
       "      <td>4021</td>\n",
       "      <td>In Ethiopia, Obama seeks progress on peace, se...</td>\n",
       "      <td>ADDIS ABABA, Ethiopia —President Obama convene...</td>\n",
       "      <td>REAL</td>\n",
       "    </tr>\n",
       "    <tr>\n",
       "      <th>6334</th>\n",
       "      <td>4330</td>\n",
       "      <td>Jeb Bush Is Suddenly Attacking Trump. Here's W...</td>\n",
       "      <td>Jeb Bush Is Suddenly Attacking Trump. Here's W...</td>\n",
       "      <td>REAL</td>\n",
       "    </tr>\n",
       "  </tbody>\n",
       "</table>\n",
       "</div>"
      ],
      "text/plain": [
       "      Unnamed: 0                                              title  \\\n",
       "6330        4490  State Department says it can't find emails fro...   \n",
       "6331        8062  The ‘P’ in PBS Should Stand for ‘Plutocratic’ ...   \n",
       "6332        8622  Anti-Trump Protesters Are Tools of the Oligarc...   \n",
       "6333        4021  In Ethiopia, Obama seeks progress on peace, se...   \n",
       "6334        4330  Jeb Bush Is Suddenly Attacking Trump. Here's W...   \n",
       "\n",
       "                                                   text label  \n",
       "6330  The State Department told the Republican Natio...  REAL  \n",
       "6331  The ‘P’ in PBS Should Stand for ‘Plutocratic’ ...  FAKE  \n",
       "6332   Anti-Trump Protesters Are Tools of the Oligar...  FAKE  \n",
       "6333  ADDIS ABABA, Ethiopia —President Obama convene...  REAL  \n",
       "6334  Jeb Bush Is Suddenly Attacking Trump. Here's W...  REAL  "
      ]
     },
     "execution_count": 5,
     "metadata": {},
     "output_type": "execute_result"
    }
   ],
   "source": [
    "data.tail()"
   ]
  },
  {
   "cell_type": "markdown",
   "metadata": {},
   "source": [
    "Shape of The DataSet"
   ]
  },
  {
   "cell_type": "code",
   "execution_count": 6,
   "metadata": {},
   "outputs": [
    {
     "data": {
      "text/plain": [
       "(6335, 4)"
      ]
     },
     "execution_count": 6,
     "metadata": {},
     "output_type": "execute_result"
    }
   ],
   "source": [
    "data.shape"
   ]
  },
  {
   "cell_type": "markdown",
   "metadata": {},
   "source": [
    "Checking Duplicate Values\n"
   ]
  },
  {
   "cell_type": "code",
   "execution_count": 7,
   "metadata": {},
   "outputs": [
    {
     "data": {
      "text/plain": [
       "0"
      ]
     },
     "execution_count": 7,
     "metadata": {},
     "output_type": "execute_result"
    }
   ],
   "source": [
    "data.duplicated().sum()"
   ]
  },
  {
   "cell_type": "code",
   "execution_count": 8,
   "metadata": {},
   "outputs": [],
   "source": [
    "data=data.drop_duplicates()"
   ]
  },
  {
   "cell_type": "code",
   "execution_count": 9,
   "metadata": {},
   "outputs": [
    {
     "data": {
      "text/plain": [
       "0"
      ]
     },
     "execution_count": 9,
     "metadata": {},
     "output_type": "execute_result"
    }
   ],
   "source": [
    "data.duplicated().sum()"
   ]
  },
  {
   "cell_type": "markdown",
   "metadata": {},
   "source": [
    "Checking the Null values"
   ]
  },
  {
   "cell_type": "code",
   "execution_count": 10,
   "metadata": {},
   "outputs": [
    {
     "data": {
      "text/plain": [
       "Unnamed: 0    0\n",
       "title         0\n",
       "text          0\n",
       "label         0\n",
       "dtype: int64"
      ]
     },
     "execution_count": 10,
     "metadata": {},
     "output_type": "execute_result"
    }
   ],
   "source": [
    "data.isnull().sum()"
   ]
  },
  {
   "cell_type": "markdown",
   "metadata": {},
   "source": [
    "Removing the Unnamed Columns"
   ]
  },
  {
   "cell_type": "code",
   "execution_count": 11,
   "metadata": {},
   "outputs": [],
   "source": [
    "data=data.drop('Unnamed: 0', axis=1)"
   ]
  },
  {
   "cell_type": "code",
   "execution_count": 15,
   "metadata": {},
   "outputs": [
    {
     "data": {
      "text/html": [
       "<div>\n",
       "<style scoped>\n",
       "    .dataframe tbody tr th:only-of-type {\n",
       "        vertical-align: middle;\n",
       "    }\n",
       "\n",
       "    .dataframe tbody tr th {\n",
       "        vertical-align: top;\n",
       "    }\n",
       "\n",
       "    .dataframe thead th {\n",
       "        text-align: right;\n",
       "    }\n",
       "</style>\n",
       "<table border=\"1\" class=\"dataframe\">\n",
       "  <thead>\n",
       "    <tr style=\"text-align: right;\">\n",
       "      <th></th>\n",
       "      <th>title</th>\n",
       "      <th>text</th>\n",
       "      <th>label</th>\n",
       "    </tr>\n",
       "  </thead>\n",
       "  <tbody>\n",
       "    <tr>\n",
       "      <th>5019</th>\n",
       "      <td>What Keeps the F-35 Alive</td>\n",
       "      <td>Posted on October 31, 2016 by DavidSwanson \\nI...</td>\n",
       "      <td>FAKE</td>\n",
       "    </tr>\n",
       "    <tr>\n",
       "      <th>4087</th>\n",
       "      <td>Legend of The Brave Buffalo; Thousands of Wild...</td>\n",
       "      <td>We Are Change \\nThousands of wild American Bis...</td>\n",
       "      <td>FAKE</td>\n",
       "    </tr>\n",
       "    <tr>\n",
       "      <th>6018</th>\n",
       "      <td>Life: Lucky Break: This Teen Boy Just Got Anot...</td>\n",
       "      <td>Email \\nThis kid just seriously hit the jackpo...</td>\n",
       "      <td>FAKE</td>\n",
       "    </tr>\n",
       "    <tr>\n",
       "      <th>5671</th>\n",
       "      <td>Valentin Katasonov: America is in agony and Tr...</td>\n",
       "      <td>\\n\\nNovember 12, 2016 - Fort Russ \\n\\nNeyromir...</td>\n",
       "      <td>FAKE</td>\n",
       "    </tr>\n",
       "    <tr>\n",
       "      <th>3444</th>\n",
       "      <td>Ben Carson’s harsh spotlight: An unfit candida...</td>\n",
       "      <td>Ben Carson has had a very strange couple of we...</td>\n",
       "      <td>REAL</td>\n",
       "    </tr>\n",
       "    <tr>\n",
       "      <th>1973</th>\n",
       "      <td>Calm Envelopes Baltimore as Curfew Begins</td>\n",
       "      <td>Baltimore leaders say the first night of the c...</td>\n",
       "      <td>REAL</td>\n",
       "    </tr>\n",
       "    <tr>\n",
       "      <th>3938</th>\n",
       "      <td>Hillary Lies About Her Whereabouts On 9/11</td>\n",
       "      <td>During a rally in Tuesday night in Florida, Hi...</td>\n",
       "      <td>FAKE</td>\n",
       "    </tr>\n",
       "    <tr>\n",
       "      <th>3628</th>\n",
       "      <td>The Fantasy of a Better Iran Deal</td>\n",
       "      <td>Some are insisting on a “better deal” than the...</td>\n",
       "      <td>REAL</td>\n",
       "    </tr>\n",
       "    <tr>\n",
       "      <th>1472</th>\n",
       "      <td>Chattanooga shooting proves it's time to arm o...</td>\n",
       "      <td>It turns out that at least one of the two mili...</td>\n",
       "      <td>REAL</td>\n",
       "    </tr>\n",
       "    <tr>\n",
       "      <th>1491</th>\n",
       "      <td>The NRA-ification of the Republican Party</td>\n",
       "      <td>The National Rifle Association, the all-powerf...</td>\n",
       "      <td>REAL</td>\n",
       "    </tr>\n",
       "    <tr>\n",
       "      <th>1661</th>\n",
       "      <td>Sanders calls Trump 'political coward' over vo...</td>\n",
       "      <td>Politics US Democratic presidential nominee Hi...</td>\n",
       "      <td>FAKE</td>\n",
       "    </tr>\n",
       "    <tr>\n",
       "      <th>2869</th>\n",
       "      <td>Israel snubs UNESCO’s Temple Mount resolution ...</td>\n",
       "      <td>Israel snubs UNESCO’s Temple Mount resolution ...</td>\n",
       "      <td>FAKE</td>\n",
       "    </tr>\n",
       "    <tr>\n",
       "      <th>436</th>\n",
       "      <td>Muslims regularly use “Inshallah” (“God Willin...</td>\n",
       "      <td>BNI Store Nov 5 2016 Muslims regularly use “In...</td>\n",
       "      <td>FAKE</td>\n",
       "    </tr>\n",
       "    <tr>\n",
       "      <th>2243</th>\n",
       "      <td>Walling them out, or walling us in?</td>\n",
       "      <td>Walling them out, or walling us in? Shall we w...</td>\n",
       "      <td>FAKE</td>\n",
       "    </tr>\n",
       "    <tr>\n",
       "      <th>4897</th>\n",
       "      <td>Brexit Lost: Scuppered By May and High Court</td>\n",
       "      <td>Home | World | Brexit Lost: Scuppered By May a...</td>\n",
       "      <td>FAKE</td>\n",
       "    </tr>\n",
       "    <tr>\n",
       "      <th>3332</th>\n",
       "      <td>EWAO Hubble has just spotted mysterious 'plasm...</td>\n",
       "      <td>News View Articles First Online Academy for th...</td>\n",
       "      <td>FAKE</td>\n",
       "    </tr>\n",
       "    <tr>\n",
       "      <th>2216</th>\n",
       "      <td>One Veteran’s War on Islamophobia</td>\n",
       "      <td>One Veteran’s War on Islamophobia Nate Terani ...</td>\n",
       "      <td>FAKE</td>\n",
       "    </tr>\n",
       "    <tr>\n",
       "      <th>3555</th>\n",
       "      <td>Wreckage in wake of bungled House coup</td>\n",
       "      <td>**Want FOX News First in your inbox every day?...</td>\n",
       "      <td>REAL</td>\n",
       "    </tr>\n",
       "    <tr>\n",
       "      <th>4994</th>\n",
       "      <td>Race to replace Boehner expected to be another...</td>\n",
       "      <td>The battle among Capitol Hill Republicans to r...</td>\n",
       "      <td>REAL</td>\n",
       "    </tr>\n",
       "    <tr>\n",
       "      <th>1241</th>\n",
       "      <td>Donald Trump is blatantly racist — and the med...</td>\n",
       "      <td>Donald Trump, the actual Republican candidate ...</td>\n",
       "      <td>REAL</td>\n",
       "    </tr>\n",
       "    <tr>\n",
       "      <th>5895</th>\n",
       "      <td>If Donald Trump wants to beat Hillary Clinton,...</td>\n",
       "      <td>The Republican nomination is his. Now there's ...</td>\n",
       "      <td>REAL</td>\n",
       "    </tr>\n",
       "    <tr>\n",
       "      <th>2354</th>\n",
       "      <td>Gay and lesbian troops will be protected by ne...</td>\n",
       "      <td>WASHINGTON — Defense Secretary Ash Carter anno...</td>\n",
       "      <td>REAL</td>\n",
       "    </tr>\n",
       "    <tr>\n",
       "      <th>4142</th>\n",
       "      <td>Radio Derb transcript for October 29th is up: ...</td>\n",
       "      <td></td>\n",
       "      <td>FAKE</td>\n",
       "    </tr>\n",
       "    <tr>\n",
       "      <th>844</th>\n",
       "      <td>US Insiders – Not Russia – Leaked Clinton Emails</td>\n",
       "      <td>Posted on November 2, 2016 by WashingtonsBlog ...</td>\n",
       "      <td>FAKE</td>\n",
       "    </tr>\n",
       "    <tr>\n",
       "      <th>5106</th>\n",
       "      <td>The U.S. government’s predatory-lending program</td>\n",
       "      <td>Most parents will do just about anything for t...</td>\n",
       "      <td>REAL</td>\n",
       "    </tr>\n",
       "    <tr>\n",
       "      <th>680</th>\n",
       "      <td>Will the anti-Clinton revolt among American el...</td>\n",
       "      <td>Will the anti-Clinton revolt among American el...</td>\n",
       "      <td>FAKE</td>\n",
       "    </tr>\n",
       "    <tr>\n",
       "      <th>1413</th>\n",
       "      <td>Facebook user wastes two hours sharing things ...</td>\n",
       "      <td>Wednesday 2 November 2016 Facebook user wastes...</td>\n",
       "      <td>FAKE</td>\n",
       "    </tr>\n",
       "    <tr>\n",
       "      <th>4303</th>\n",
       "      <td>VIDEO: Cop Crashes Car and Runs Away When More...</td>\n",
       "      <td>\\nAn award-winning California state trooper wa...</td>\n",
       "      <td>FAKE</td>\n",
       "    </tr>\n",
       "    <tr>\n",
       "      <th>2160</th>\n",
       "      <td>Here’s the Best Way to Stop Trump—and Save Rep...</td>\n",
       "      <td>We need a true conservative to run third party...</td>\n",
       "      <td>REAL</td>\n",
       "    </tr>\n",
       "    <tr>\n",
       "      <th>664</th>\n",
       "      <td>OnPolitics | 's politics blog</td>\n",
       "      <td>What you need to know about the election recou...</td>\n",
       "      <td>REAL</td>\n",
       "    </tr>\n",
       "  </tbody>\n",
       "</table>\n",
       "</div>"
      ],
      "text/plain": [
       "                                                  title  \\\n",
       "5019                          What Keeps the F-35 Alive   \n",
       "4087  Legend of The Brave Buffalo; Thousands of Wild...   \n",
       "6018  Life: Lucky Break: This Teen Boy Just Got Anot...   \n",
       "5671  Valentin Katasonov: America is in agony and Tr...   \n",
       "3444  Ben Carson’s harsh spotlight: An unfit candida...   \n",
       "1973          Calm Envelopes Baltimore as Curfew Begins   \n",
       "3938         Hillary Lies About Her Whereabouts On 9/11   \n",
       "3628                  The Fantasy of a Better Iran Deal   \n",
       "1472  Chattanooga shooting proves it's time to arm o...   \n",
       "1491          The NRA-ification of the Republican Party   \n",
       "1661  Sanders calls Trump 'political coward' over vo...   \n",
       "2869  Israel snubs UNESCO’s Temple Mount resolution ...   \n",
       "436   Muslims regularly use “Inshallah” (“God Willin...   \n",
       "2243                Walling them out, or walling us in?   \n",
       "4897       Brexit Lost: Scuppered By May and High Court   \n",
       "3332  EWAO Hubble has just spotted mysterious 'plasm...   \n",
       "2216                  One Veteran’s War on Islamophobia   \n",
       "3555             Wreckage in wake of bungled House coup   \n",
       "4994  Race to replace Boehner expected to be another...   \n",
       "1241  Donald Trump is blatantly racist — and the med...   \n",
       "5895  If Donald Trump wants to beat Hillary Clinton,...   \n",
       "2354  Gay and lesbian troops will be protected by ne...   \n",
       "4142  Radio Derb transcript for October 29th is up: ...   \n",
       "844    US Insiders – Not Russia – Leaked Clinton Emails   \n",
       "5106    The U.S. government’s predatory-lending program   \n",
       "680   Will the anti-Clinton revolt among American el...   \n",
       "1413  Facebook user wastes two hours sharing things ...   \n",
       "4303  VIDEO: Cop Crashes Car and Runs Away When More...   \n",
       "2160  Here’s the Best Way to Stop Trump—and Save Rep...   \n",
       "664                       OnPolitics | 's politics blog   \n",
       "\n",
       "                                                   text label  \n",
       "5019  Posted on October 31, 2016 by DavidSwanson \\nI...  FAKE  \n",
       "4087  We Are Change \\nThousands of wild American Bis...  FAKE  \n",
       "6018  Email \\nThis kid just seriously hit the jackpo...  FAKE  \n",
       "5671  \\n\\nNovember 12, 2016 - Fort Russ \\n\\nNeyromir...  FAKE  \n",
       "3444  Ben Carson has had a very strange couple of we...  REAL  \n",
       "1973  Baltimore leaders say the first night of the c...  REAL  \n",
       "3938  During a rally in Tuesday night in Florida, Hi...  FAKE  \n",
       "3628  Some are insisting on a “better deal” than the...  REAL  \n",
       "1472  It turns out that at least one of the two mili...  REAL  \n",
       "1491  The National Rifle Association, the all-powerf...  REAL  \n",
       "1661  Politics US Democratic presidential nominee Hi...  FAKE  \n",
       "2869  Israel snubs UNESCO’s Temple Mount resolution ...  FAKE  \n",
       "436   BNI Store Nov 5 2016 Muslims regularly use “In...  FAKE  \n",
       "2243  Walling them out, or walling us in? Shall we w...  FAKE  \n",
       "4897  Home | World | Brexit Lost: Scuppered By May a...  FAKE  \n",
       "3332  News View Articles First Online Academy for th...  FAKE  \n",
       "2216  One Veteran’s War on Islamophobia Nate Terani ...  FAKE  \n",
       "3555  **Want FOX News First in your inbox every day?...  REAL  \n",
       "4994  The battle among Capitol Hill Republicans to r...  REAL  \n",
       "1241  Donald Trump, the actual Republican candidate ...  REAL  \n",
       "5895  The Republican nomination is his. Now there's ...  REAL  \n",
       "2354  WASHINGTON — Defense Secretary Ash Carter anno...  REAL  \n",
       "4142                                                     FAKE  \n",
       "844   Posted on November 2, 2016 by WashingtonsBlog ...  FAKE  \n",
       "5106  Most parents will do just about anything for t...  REAL  \n",
       "680   Will the anti-Clinton revolt among American el...  FAKE  \n",
       "1413  Wednesday 2 November 2016 Facebook user wastes...  FAKE  \n",
       "4303  \\nAn award-winning California state trooper wa...  FAKE  \n",
       "2160  We need a true conservative to run third party...  REAL  \n",
       "664   What you need to know about the election recou...  REAL  "
      ]
     },
     "execution_count": 15,
     "metadata": {},
     "output_type": "execute_result"
    }
   ],
   "source": [
    "data.sample(30)"
   ]
  },
  {
   "cell_type": "markdown",
   "metadata": {},
   "source": [
    "Checking outputes "
   ]
  },
  {
   "cell_type": "code",
   "execution_count": 16,
   "metadata": {},
   "outputs": [
    {
     "data": {
      "text/plain": [
       "0    FAKE\n",
       "1    FAKE\n",
       "2    REAL\n",
       "3    FAKE\n",
       "4    REAL\n",
       "Name: label, dtype: object"
      ]
     },
     "execution_count": 16,
     "metadata": {},
     "output_type": "execute_result"
    }
   ],
   "source": [
    "l=data.label;\n",
    "l.head()"
   ]
  },
  {
   "cell_type": "markdown",
   "metadata": {},
   "source": [
    "Statistical Description"
   ]
  },
  {
   "cell_type": "code",
   "execution_count": 17,
   "metadata": {},
   "outputs": [
    {
     "data": {
      "text/html": [
       "<div>\n",
       "<style scoped>\n",
       "    .dataframe tbody tr th:only-of-type {\n",
       "        vertical-align: middle;\n",
       "    }\n",
       "\n",
       "    .dataframe tbody tr th {\n",
       "        vertical-align: top;\n",
       "    }\n",
       "\n",
       "    .dataframe thead th {\n",
       "        text-align: right;\n",
       "    }\n",
       "</style>\n",
       "<table border=\"1\" class=\"dataframe\">\n",
       "  <thead>\n",
       "    <tr style=\"text-align: right;\">\n",
       "      <th></th>\n",
       "      <th>title</th>\n",
       "      <th>text</th>\n",
       "      <th>label</th>\n",
       "    </tr>\n",
       "  </thead>\n",
       "  <tbody>\n",
       "    <tr>\n",
       "      <th>count</th>\n",
       "      <td>6335</td>\n",
       "      <td>6335</td>\n",
       "      <td>6335</td>\n",
       "    </tr>\n",
       "    <tr>\n",
       "      <th>unique</th>\n",
       "      <td>6256</td>\n",
       "      <td>6060</td>\n",
       "      <td>2</td>\n",
       "    </tr>\n",
       "    <tr>\n",
       "      <th>top</th>\n",
       "      <td>OnPolitics | 's politics blog</td>\n",
       "      <td>Killing Obama administration rules, dismantlin...</td>\n",
       "      <td>REAL</td>\n",
       "    </tr>\n",
       "    <tr>\n",
       "      <th>freq</th>\n",
       "      <td>5</td>\n",
       "      <td>58</td>\n",
       "      <td>3171</td>\n",
       "    </tr>\n",
       "  </tbody>\n",
       "</table>\n",
       "</div>"
      ],
      "text/plain": [
       "                                title  \\\n",
       "count                            6335   \n",
       "unique                           6256   \n",
       "top     OnPolitics | 's politics blog   \n",
       "freq                                5   \n",
       "\n",
       "                                                     text label  \n",
       "count                                                6335  6335  \n",
       "unique                                               6060     2  \n",
       "top     Killing Obama administration rules, dismantlin...  REAL  \n",
       "freq                                                   58  3171  "
      ]
     },
     "execution_count": 17,
     "metadata": {},
     "output_type": "execute_result"
    }
   ],
   "source": [
    "data.describe()"
   ]
  },
  {
   "cell_type": "code",
   "execution_count": 18,
   "metadata": {},
   "outputs": [],
   "source": [
    "data=data.drop('title',axis=1)"
   ]
  },
  {
   "cell_type": "code",
   "execution_count": 19,
   "metadata": {},
   "outputs": [
    {
     "data": {
      "text/html": [
       "<div>\n",
       "<style scoped>\n",
       "    .dataframe tbody tr th:only-of-type {\n",
       "        vertical-align: middle;\n",
       "    }\n",
       "\n",
       "    .dataframe tbody tr th {\n",
       "        vertical-align: top;\n",
       "    }\n",
       "\n",
       "    .dataframe thead th {\n",
       "        text-align: right;\n",
       "    }\n",
       "</style>\n",
       "<table border=\"1\" class=\"dataframe\">\n",
       "  <thead>\n",
       "    <tr style=\"text-align: right;\">\n",
       "      <th></th>\n",
       "      <th>text</th>\n",
       "      <th>label</th>\n",
       "    </tr>\n",
       "  </thead>\n",
       "  <tbody>\n",
       "    <tr>\n",
       "      <th>5143</th>\n",
       "      <td>Raul A. Reyes, an attorney and member of the U...</td>\n",
       "      <td>REAL</td>\n",
       "    </tr>\n",
       "    <tr>\n",
       "      <th>380</th>\n",
       "      <td>Financial Markets Clinton Foundation , Hillary...</td>\n",
       "      <td>FAKE</td>\n",
       "    </tr>\n",
       "    <tr>\n",
       "      <th>4005</th>\n",
       "      <td>Senator Ted Cruz is now the frontrunner in the...</td>\n",
       "      <td>REAL</td>\n",
       "    </tr>\n",
       "    <tr>\n",
       "      <th>444</th>\n",
       "      <td>Hegel remarks somewhere that all great world-h...</td>\n",
       "      <td>FAKE</td>\n",
       "    </tr>\n",
       "    <tr>\n",
       "      <th>1950</th>\n",
       "      <td>Turkey and the United States have agreed on a ...</td>\n",
       "      <td>REAL</td>\n",
       "    </tr>\n",
       "    <tr>\n",
       "      <th>2297</th>\n",
       "      <td>Google Pinterest Digg Linkedin Reddit Stumbleu...</td>\n",
       "      <td>FAKE</td>\n",
       "    </tr>\n",
       "    <tr>\n",
       "      <th>1574</th>\n",
       "      <td>Israeli official secretly visits Dubai: Report...</td>\n",
       "      <td>FAKE</td>\n",
       "    </tr>\n",
       "    <tr>\n",
       "      <th>3317</th>\n",
       "      <td>Former Florida governor and likely GOP preside...</td>\n",
       "      <td>REAL</td>\n",
       "    </tr>\n",
       "    <tr>\n",
       "      <th>3482</th>\n",
       "      <td>Don’t CLICK that, stupid! Is this email from M...</td>\n",
       "      <td>FAKE</td>\n",
       "    </tr>\n",
       "    <tr>\n",
       "      <th>5891</th>\n",
       "      <td>(CNN) The 2016 election is setting new lows fo...</td>\n",
       "      <td>REAL</td>\n",
       "    </tr>\n",
       "    <tr>\n",
       "      <th>6137</th>\n",
       "      <td>SANFORD, Fla.—The struggle for the White House...</td>\n",
       "      <td>REAL</td>\n",
       "    </tr>\n",
       "    <tr>\n",
       "      <th>639</th>\n",
       "      <td>Print \\nAlthough members of Congress are now a...</td>\n",
       "      <td>FAKE</td>\n",
       "    </tr>\n",
       "    <tr>\n",
       "      <th>387</th>\n",
       "      <td>President Obama and Russian President Vladimir...</td>\n",
       "      <td>REAL</td>\n",
       "    </tr>\n",
       "    <tr>\n",
       "      <th>3305</th>\n",
       "      <td>Electric Floors Could Generate Renewable Energ...</td>\n",
       "      <td>FAKE</td>\n",
       "    </tr>\n",
       "    <tr>\n",
       "      <th>4716</th>\n",
       "      <td>WASHINGTON -- The audience should have belonge...</td>\n",
       "      <td>REAL</td>\n",
       "    </tr>\n",
       "    <tr>\n",
       "      <th>5883</th>\n",
       "      <td>December's job growth numbers are in, and they...</td>\n",
       "      <td>REAL</td>\n",
       "    </tr>\n",
       "    <tr>\n",
       "      <th>5855</th>\n",
       "      <td>Hillary Clinton’s nightmare is not the sudden ...</td>\n",
       "      <td>REAL</td>\n",
       "    </tr>\n",
       "    <tr>\n",
       "      <th>6050</th>\n",
       "      <td>The White House Correspondents' Dinner has bec...</td>\n",
       "      <td>REAL</td>\n",
       "    </tr>\n",
       "    <tr>\n",
       "      <th>291</th>\n",
       "      <td>Pro-Palestinian Propaganda Lowering Standards ...</td>\n",
       "      <td>FAKE</td>\n",
       "    </tr>\n",
       "    <tr>\n",
       "      <th>825</th>\n",
       "      <td>The unexpected death of Justice Antonin Scalia...</td>\n",
       "      <td>REAL</td>\n",
       "    </tr>\n",
       "    <tr>\n",
       "      <th>5860</th>\n",
       "      <td>The Maryland Democrat made the announcement Mo...</td>\n",
       "      <td>REAL</td>\n",
       "    </tr>\n",
       "    <tr>\n",
       "      <th>3799</th>\n",
       "      <td>With gas prices dipping to their lowest level ...</td>\n",
       "      <td>REAL</td>\n",
       "    </tr>\n",
       "    <tr>\n",
       "      <th>3022</th>\n",
       "      <td>Assange claims ‘crazed’ Clinton campaign tried...</td>\n",
       "      <td>FAKE</td>\n",
       "    </tr>\n",
       "    <tr>\n",
       "      <th>4849</th>\n",
       "      <td>Nestle seeks more groundwater to expand Michig...</td>\n",
       "      <td>FAKE</td>\n",
       "    </tr>\n",
       "    <tr>\n",
       "      <th>1035</th>\n",
       "      <td>Fitzgerald Griffin Foundation October 29, 2016...</td>\n",
       "      <td>FAKE</td>\n",
       "    </tr>\n",
       "    <tr>\n",
       "      <th>2743</th>\n",
       "      <td>The flag at Desert Hot Springs' Condor Gun Sho...</td>\n",
       "      <td>REAL</td>\n",
       "    </tr>\n",
       "    <tr>\n",
       "      <th>2332</th>\n",
       "      <td>The Only Way to Save the World is to Save Your...</td>\n",
       "      <td>FAKE</td>\n",
       "    </tr>\n",
       "    <tr>\n",
       "      <th>3663</th>\n",
       "      <td>As the Supreme Court prepares to take up same-...</td>\n",
       "      <td>REAL</td>\n",
       "    </tr>\n",
       "    <tr>\n",
       "      <th>5781</th>\n",
       "      <td>The first nine months of 2013 have convinced u...</td>\n",
       "      <td>REAL</td>\n",
       "    </tr>\n",
       "    <tr>\n",
       "      <th>4742</th>\n",
       "      <td>Washington (CNN) If you're running for Preside...</td>\n",
       "      <td>REAL</td>\n",
       "    </tr>\n",
       "  </tbody>\n",
       "</table>\n",
       "</div>"
      ],
      "text/plain": [
       "                                                   text label\n",
       "5143  Raul A. Reyes, an attorney and member of the U...  REAL\n",
       "380   Financial Markets Clinton Foundation , Hillary...  FAKE\n",
       "4005  Senator Ted Cruz is now the frontrunner in the...  REAL\n",
       "444   Hegel remarks somewhere that all great world-h...  FAKE\n",
       "1950  Turkey and the United States have agreed on a ...  REAL\n",
       "2297  Google Pinterest Digg Linkedin Reddit Stumbleu...  FAKE\n",
       "1574  Israeli official secretly visits Dubai: Report...  FAKE\n",
       "3317  Former Florida governor and likely GOP preside...  REAL\n",
       "3482  Don’t CLICK that, stupid! Is this email from M...  FAKE\n",
       "5891  (CNN) The 2016 election is setting new lows fo...  REAL\n",
       "6137  SANFORD, Fla.—The struggle for the White House...  REAL\n",
       "639   Print \\nAlthough members of Congress are now a...  FAKE\n",
       "387   President Obama and Russian President Vladimir...  REAL\n",
       "3305  Electric Floors Could Generate Renewable Energ...  FAKE\n",
       "4716  WASHINGTON -- The audience should have belonge...  REAL\n",
       "5883  December's job growth numbers are in, and they...  REAL\n",
       "5855  Hillary Clinton’s nightmare is not the sudden ...  REAL\n",
       "6050  The White House Correspondents' Dinner has bec...  REAL\n",
       "291   Pro-Palestinian Propaganda Lowering Standards ...  FAKE\n",
       "825   The unexpected death of Justice Antonin Scalia...  REAL\n",
       "5860  The Maryland Democrat made the announcement Mo...  REAL\n",
       "3799  With gas prices dipping to their lowest level ...  REAL\n",
       "3022  Assange claims ‘crazed’ Clinton campaign tried...  FAKE\n",
       "4849  Nestle seeks more groundwater to expand Michig...  FAKE\n",
       "1035  Fitzgerald Griffin Foundation October 29, 2016...  FAKE\n",
       "2743  The flag at Desert Hot Springs' Condor Gun Sho...  REAL\n",
       "2332  The Only Way to Save the World is to Save Your...  FAKE\n",
       "3663  As the Supreme Court prepares to take up same-...  REAL\n",
       "5781  The first nine months of 2013 have convinced u...  REAL\n",
       "4742  Washington (CNN) If you're running for Preside...  REAL"
      ]
     },
     "execution_count": 19,
     "metadata": {},
     "output_type": "execute_result"
    }
   ],
   "source": [
    "data.sample(30)"
   ]
  },
  {
   "cell_type": "markdown",
   "metadata": {},
   "source": [
    "Data Visualization"
   ]
  },
  {
   "cell_type": "code",
   "execution_count": 20,
   "metadata": {},
   "outputs": [],
   "source": [
    "import matplotlib.pyplot as plt\n",
    "import seaborn as sns\n",
    "import warnings\n",
    "warnings.filterwarnings('ignore')"
   ]
  },
  {
   "cell_type": "code",
   "execution_count": 23,
   "metadata": {},
   "outputs": [
    {
     "data": {
      "image/png": "[encoded data removed]",
      "text/plain": [
       "<Figure size 640x480 with 1 Axes>"
      ]
     },
     "metadata": {},
     "output_type": "display_data"
    }
   ],
   "source": [
    "plt.pie(data['label'].value_counts(),labels=['Real','Fake'],colors=['Blue','Red'],autopct='%0.3f')\n",
    "plt.show()"
   ]
  },
  {
   "cell_type": "markdown",
   "metadata": {},
   "source": [
    "Data is well distrubuted\n",
    "\n",
    "Function to change the texts (title, text) Machine Understandable"
   ]
  },
  {
   "cell_type": "code",
   "execution_count": 29,
   "metadata": {},
   "outputs": [],
   "source": [
    "import re\n",
    "\n",
    "def convert(text):\n",
    "    text = text.lower()\n",
    "    text = re.sub(r'https?://S+|www\\.\\S+' , '' , text)\n",
    "    text = re.sub('\\n' , '' , text)\n",
    "    text = re.sub('', '', text)\n",
    "    words = []\n",
    "    for i in text:\n",
    "        if i not in string.punctuation:\n",
    "            words.append(i)\n",
    "    return ''.join(words)"
   ]
  },
  {
   "cell_type": "code",
   "execution_count": 30,
   "metadata": {},
   "outputs": [],
   "source": [
    "import string\n",
    "\n",
    "data[\"text\"] = data[\"text\"].apply(convert)"
   ]
  },
  {
   "cell_type": "code",
   "execution_count": 31,
   "metadata": {},
   "outputs": [
    {
     "data": {
      "text/html": [
       "<div>\n",
       "<style scoped>\n",
       "    .dataframe tbody tr th:only-of-type {\n",
       "        vertical-align: middle;\n",
       "    }\n",
       "\n",
       "    .dataframe tbody tr th {\n",
       "        vertical-align: top;\n",
       "    }\n",
       "\n",
       "    .dataframe thead th {\n",
       "        text-align: right;\n",
       "    }\n",
       "</style>\n",
       "<table border=\"1\" class=\"dataframe\">\n",
       "  <thead>\n",
       "    <tr style=\"text-align: right;\">\n",
       "      <th></th>\n",
       "      <th>text</th>\n",
       "      <th>label</th>\n",
       "    </tr>\n",
       "  </thead>\n",
       "  <tbody>\n",
       "    <tr>\n",
       "      <th>0</th>\n",
       "      <td>daniel greenfield a shillman journalism fellow...</td>\n",
       "      <td>FAKE</td>\n",
       "    </tr>\n",
       "    <tr>\n",
       "      <th>1</th>\n",
       "      <td>google pinterest digg linkedin reddit stumbleu...</td>\n",
       "      <td>FAKE</td>\n",
       "    </tr>\n",
       "    <tr>\n",
       "      <th>2</th>\n",
       "      <td>us secretary of state john f kerry said monday...</td>\n",
       "      <td>REAL</td>\n",
       "    </tr>\n",
       "    <tr>\n",
       "      <th>3</th>\n",
       "      <td>— kaydee king kaydeeking november 9 2016 the l...</td>\n",
       "      <td>FAKE</td>\n",
       "    </tr>\n",
       "    <tr>\n",
       "      <th>4</th>\n",
       "      <td>its primary day in new york and frontrunners h...</td>\n",
       "      <td>REAL</td>\n",
       "    </tr>\n",
       "    <tr>\n",
       "      <th>...</th>\n",
       "      <td>...</td>\n",
       "      <td>...</td>\n",
       "    </tr>\n",
       "    <tr>\n",
       "      <th>6330</th>\n",
       "      <td>the state department told the republican natio...</td>\n",
       "      <td>REAL</td>\n",
       "    </tr>\n",
       "    <tr>\n",
       "      <th>6331</th>\n",
       "      <td>the ‘p’ in pbs should stand for ‘plutocratic’ ...</td>\n",
       "      <td>FAKE</td>\n",
       "    </tr>\n",
       "    <tr>\n",
       "      <th>6332</th>\n",
       "      <td>antitrump protesters are tools of the oligarc...</td>\n",
       "      <td>FAKE</td>\n",
       "    </tr>\n",
       "    <tr>\n",
       "      <th>6333</th>\n",
       "      <td>addis ababa ethiopia —president obama convened...</td>\n",
       "      <td>REAL</td>\n",
       "    </tr>\n",
       "    <tr>\n",
       "      <th>6334</th>\n",
       "      <td>jeb bush is suddenly attacking trump heres why...</td>\n",
       "      <td>REAL</td>\n",
       "    </tr>\n",
       "  </tbody>\n",
       "</table>\n",
       "<p>6335 rows × 2 columns</p>\n",
       "</div>"
      ],
      "text/plain": [
       "                                                   text label\n",
       "0     daniel greenfield a shillman journalism fellow...  FAKE\n",
       "1     google pinterest digg linkedin reddit stumbleu...  FAKE\n",
       "2     us secretary of state john f kerry said monday...  REAL\n",
       "3     — kaydee king kaydeeking november 9 2016 the l...  FAKE\n",
       "4     its primary day in new york and frontrunners h...  REAL\n",
       "...                                                 ...   ...\n",
       "6330  the state department told the republican natio...  REAL\n",
       "6331  the ‘p’ in pbs should stand for ‘plutocratic’ ...  FAKE\n",
       "6332   antitrump protesters are tools of the oligarc...  FAKE\n",
       "6333  addis ababa ethiopia —president obama convened...  REAL\n",
       "6334  jeb bush is suddenly attacking trump heres why...  REAL\n",
       "\n",
       "[6335 rows x 2 columns]"
      ]
     },
     "execution_count": 31,
     "metadata": {},
     "output_type": "execute_result"
    }
   ],
   "source": [
    "data"
   ]
  },
  {
   "cell_type": "markdown",
   "metadata": {},
   "source": [
    "Making the Data Ready for Model fitting"
   ]
  },
  {
   "cell_type": "code",
   "execution_count": 34,
   "metadata": {},
   "outputs": [
    {
     "data": {
      "text/html": [
       "<div>\n",
       "<style scoped>\n",
       "    .dataframe tbody tr th:only-of-type {\n",
       "        vertical-align: middle;\n",
       "    }\n",
       "\n",
       "    .dataframe tbody tr th {\n",
       "        vertical-align: top;\n",
       "    }\n",
       "\n",
       "    .dataframe thead th {\n",
       "        text-align: right;\n",
       "    }\n",
       "</style>\n",
       "<table border=\"1\" class=\"dataframe\">\n",
       "  <thead>\n",
       "    <tr style=\"text-align: right;\">\n",
       "      <th></th>\n",
       "      <th>text</th>\n",
       "      <th>label</th>\n",
       "    </tr>\n",
       "  </thead>\n",
       "  <tbody>\n",
       "    <tr>\n",
       "      <th>1339</th>\n",
       "      <td>when president truman approved the use of the ...</td>\n",
       "      <td>1</td>\n",
       "    </tr>\n",
       "    <tr>\n",
       "      <th>5734</th>\n",
       "      <td>friend from university is an arse now 311016 a...</td>\n",
       "      <td>0</td>\n",
       "    </tr>\n",
       "    <tr>\n",
       "      <th>5854</th>\n",
       "      <td>the deleter of the free world hillarys 33000 e...</td>\n",
       "      <td>0</td>\n",
       "    </tr>\n",
       "    <tr>\n",
       "      <th>4125</th>\n",
       "      <td>donate remember this when you talk about stand...</td>\n",
       "      <td>0</td>\n",
       "    </tr>\n",
       "    <tr>\n",
       "      <th>810</th>\n",
       "      <td>if he gives it i will not accept it trump said...</td>\n",
       "      <td>1</td>\n",
       "    </tr>\n",
       "    <tr>\n",
       "      <th>2424</th>\n",
       "      <td>russia has called the war partys bluffa hot w...</td>\n",
       "      <td>0</td>\n",
       "    </tr>\n",
       "    <tr>\n",
       "      <th>6015</th>\n",
       "      <td>with the general election campaign just hours ...</td>\n",
       "      <td>1</td>\n",
       "    </tr>\n",
       "    <tr>\n",
       "      <th>929</th>\n",
       "      <td>pakistan this photo taken in lahore on october...</td>\n",
       "      <td>0</td>\n",
       "    </tr>\n",
       "    <tr>\n",
       "      <th>5080</th>\n",
       "      <td>black turnout soft in early voting boding ill ...</td>\n",
       "      <td>0</td>\n",
       "    </tr>\n",
       "    <tr>\n",
       "      <th>1232</th>\n",
       "      <td>in the two years since the horrific marathon b...</td>\n",
       "      <td>1</td>\n",
       "    </tr>\n",
       "    <tr>\n",
       "      <th>5906</th>\n",
       "      <td>during a house appropriations committee hearin...</td>\n",
       "      <td>1</td>\n",
       "    </tr>\n",
       "    <tr>\n",
       "      <th>2301</th>\n",
       "      <td>email cnn made it official monday firing comme...</td>\n",
       "      <td>0</td>\n",
       "    </tr>\n",
       "    <tr>\n",
       "      <th>1495</th>\n",
       "      <td>the senate map is the democrats’ friend in the...</td>\n",
       "      <td>1</td>\n",
       "    </tr>\n",
       "    <tr>\n",
       "      <th>3345</th>\n",
       "      <td>sen marco rubio rfla is officially in for the ...</td>\n",
       "      <td>1</td>\n",
       "    </tr>\n",
       "    <tr>\n",
       "      <th>250</th>\n",
       "      <td>while donald trump doubled down this week on h...</td>\n",
       "      <td>1</td>\n",
       "    </tr>\n",
       "    <tr>\n",
       "      <th>956</th>\n",
       "      <td>a stormy opening night of the democratic conve...</td>\n",
       "      <td>1</td>\n",
       "    </tr>\n",
       "    <tr>\n",
       "      <th>356</th>\n",
       "      <td>hillary clinton’s email problems began in her ...</td>\n",
       "      <td>1</td>\n",
       "    </tr>\n",
       "    <tr>\n",
       "      <th>5911</th>\n",
       "      <td>black and a member of the 1 elite page 1 relat...</td>\n",
       "      <td>0</td>\n",
       "    </tr>\n",
       "    <tr>\n",
       "      <th>2094</th>\n",
       "      <td>last year during the early days of the preside...</td>\n",
       "      <td>1</td>\n",
       "    </tr>\n",
       "    <tr>\n",
       "      <th>5628</th>\n",
       "      <td>wendy kennedy on being a channel for the 9th d...</td>\n",
       "      <td>0</td>\n",
       "    </tr>\n",
       "  </tbody>\n",
       "</table>\n",
       "</div>"
      ],
      "text/plain": [
       "                                                   text  label\n",
       "1339  when president truman approved the use of the ...      1\n",
       "5734  friend from university is an arse now 311016 a...      0\n",
       "5854  the deleter of the free world hillarys 33000 e...      0\n",
       "4125  donate remember this when you talk about stand...      0\n",
       "810   if he gives it i will not accept it trump said...      1\n",
       "2424   russia has called the war partys bluffa hot w...      0\n",
       "6015  with the general election campaign just hours ...      1\n",
       "929   pakistan this photo taken in lahore on october...      0\n",
       "5080  black turnout soft in early voting boding ill ...      0\n",
       "1232  in the two years since the horrific marathon b...      1\n",
       "5906  during a house appropriations committee hearin...      1\n",
       "2301  email cnn made it official monday firing comme...      0\n",
       "1495  the senate map is the democrats’ friend in the...      1\n",
       "3345  sen marco rubio rfla is officially in for the ...      1\n",
       "250   while donald trump doubled down this week on h...      1\n",
       "956   a stormy opening night of the democratic conve...      1\n",
       "356   hillary clinton’s email problems began in her ...      1\n",
       "5911  black and a member of the 1 elite page 1 relat...      0\n",
       "2094  last year during the early days of the preside...      1\n",
       "5628  wendy kennedy on being a channel for the 9th d...      0"
      ]
     },
     "execution_count": 34,
     "metadata": {},
     "output_type": "execute_result"
    }
   ],
   "source": [
    "from sklearn.preprocessing import LabelEncoder\n",
    "le=LabelEncoder()\n",
    "data['label']=le.fit_transform(data['label'])\n",
    "data.sample(20)"
   ]
  },
  {
   "cell_type": "markdown",
   "metadata": {},
   "source": [
    "1 Means Fake News\n",
    "\n",
    "0 Means Real News"
   ]
  },
  {
   "cell_type": "code",
   "execution_count": 35,
   "metadata": {},
   "outputs": [],
   "source": [
    "x=data['text']\n",
    "y=data['label']"
   ]
  },
  {
   "cell_type": "markdown",
   "metadata": {},
   "source": [
    "Splitting into Training and Testing DataSet"
   ]
  },
  {
   "cell_type": "code",
   "execution_count": 36,
   "metadata": {},
   "outputs": [],
   "source": [
    "from sklearn.model_selection import train_test_split\n",
    "x_train,x_test,y_train,y_test=train_test_split(data['text'],data['label'], test_size=0.2, random_state=7)"
   ]
  },
  {
   "cell_type": "code",
   "execution_count": 37,
   "metadata": {},
   "outputs": [
    {
     "data": {
      "text/plain": [
       "6237    the head of a leading survivalist group has ma...\n",
       "3722    ‹ › arnaldo rodgers is a trained and educated ...\n",
       "5774    patty sanchez 51 used to eat 13000 calories a ...\n",
       "336     but benjamin netanyahu’s reelection was regard...\n",
       "3622    john kasich was killing it with these iowa vot...\n",
       "                              ...                        \n",
       "5699                                                     \n",
       "2550    it’s not that americans won’t elect wealthy pr...\n",
       "537     anyone writing sentences like ‘nevertheless fu...\n",
       "1220    more catholics are in congress than ever befor...\n",
       "4271    it was hosted by cnn and the presentation was ...\n",
       "Name: text, Length: 5068, dtype: object"
      ]
     },
     "execution_count": 37,
     "metadata": {},
     "output_type": "execute_result"
    }
   ],
   "source": [
    "x_train"
   ]
  },
  {
   "cell_type": "markdown",
   "metadata": {},
   "source": [
    " Convert Text Data to Vectors"
   ]
  },
  {
   "cell_type": "code",
   "execution_count": 38,
   "metadata": {},
   "outputs": [],
   "source": [
    "from sklearn.feature_extraction.text import TfidfVectorizer\n",
    "\n",
    "vectorization = TfidfVectorizer()\n",
    "x_train= vectorization.fit_transform(x_train)\n",
    "x_test = vectorization.transform(x_test)"
   ]
  },
  {
   "cell_type": "markdown",
   "metadata": {},
   "source": [
    "Logistic Regression"
   ]
  },
  {
   "cell_type": "code",
   "execution_count": 39,
   "metadata": {},
   "outputs": [
    {
     "data": {
      "text/plain": [
       "0.920284135753749"
      ]
     },
     "execution_count": 39,
     "metadata": {},
     "output_type": "execute_result"
    }
   ],
   "source": [
    "from sklearn.linear_model import LogisticRegression\n",
    "\n",
    "LR = LogisticRegression()\n",
    "LR.fit(x_train,y_train)\n",
    "LogisticRegression()\n",
    "pred_lr=LR.predict(x_test)\n",
    "LR.score(x_test, y_test)"
   ]
  },
  {
   "cell_type": "markdown",
   "metadata": {},
   "source": [
    "Testing the Dataset"
   ]
  },
  {
   "cell_type": "code",
   "execution_count": 40,
   "metadata": {},
   "outputs": [],
   "source": [
    "def answer(n):\n",
    "    if n == 0:\n",
    "        return \"Fake News\"\n",
    "    elif n == 1:\n",
    "        return \"Real News\"\n",
    "    \n",
    "def test(n):\n",
    "    test_n = {\"text\":[n]}\n",
    "    new_def_test = pd.DataFrame(test_n)\n",
    "    new_def_test[\"text\"] = new_def_test[\"text\"].apply(convert) \n",
    "    new_x_test = new_def_test[\"text\"]\n",
    "    new_xv_test = vectorization.transform(new_x_test)\n",
    "    pred_LR = LR.predict(new_xv_test)\n",
    "\n",
    "    return print(\"Prediction: {} \".format(answer(pred_LR[0])))"
   ]
  },
  {
   "cell_type": "markdown",
   "metadata": {},
   "source": [
    "Prediction"
   ]
  },
  {
   "cell_type": "code",
   "execution_count": 41,
   "metadata": {},
   "outputs": [
    {
     "name": "stdout",
     "output_type": "stream",
     "text": [
      "Prediction: Real News \n"
     ]
    }
   ],
   "source": [
    "n=\"What's in that Iran bill that Obama doesn't like?\"\n",
    "test(n)"
   ]
  },
  {
   "cell_type": "code",
   "execution_count": 42,
   "metadata": {},
   "outputs": [
    {
     "name": "stdout",
     "output_type": "stream",
     "text": [
      "Prediction: Fake News \n"
     ]
    }
   ],
   "source": [
    "n=\"Brexit Encourages UK to Trade With Non-EU States, Including Russia\"\n",
    "test(n)"
   ]
  },
  {
   "cell_type": "code",
   "execution_count": 43,
   "metadata": {},
   "outputs": [
    {
     "name": "stdout",
     "output_type": "stream",
     "text": [
      "Prediction: Fake News \n"
     ]
    }
   ],
   "source": [
    "n=\"First Ever Hindu Woman Elected into Congress\"\n",
    "test(n)"
   ]
  },
  {
   "cell_type": "code",
   "execution_count": 44,
   "metadata": {},
   "outputs": [
    {
     "name": "stdout",
     "output_type": "stream",
     "text": [
      "Prediction: Fake News \n"
     ]
    }
   ],
   "source": [
    "n=\"Hillary Wants Aggressively Interventionist Foreign Policy\"\n",
    "test(n)"
   ]
  },
  {
   "cell_type": "code",
   "execution_count": 45,
   "metadata": {},
   "outputs": [
    {
     "name": "stdout",
     "output_type": "stream",
     "text": [
      "Prediction: Fake News \n"
     ]
    }
   ],
   "source": [
    "n=\"Obama makes the right call to tough it out in Afghanistan\"\n",
    "test(n)"
   ]
  }
 ],
 "metadata": {
  "kernelspec": {
   "display_name": "Python 3",
   "language": "python",
   "name": "python3"
  },
  "language_info": {
   "codemirror_mode": {
    "name": "ipython",
    "version": 3
   },
   "file_extension": ".py",
   "mimetype": "text/x-python",
   "name": "python",
   "nbconvert_exporter": "python",
   "pygments_lexer": "ipython3",
   "version": "3.11.3"
  }
 },
 "nbformat": 4,
 "nbformat_minor": 2
}
